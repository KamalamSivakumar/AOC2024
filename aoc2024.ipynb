{
 "cells": [
  {
   "cell_type": "code",
   "execution_count": 2,
   "metadata": {},
   "outputs": [
    {
     "name": "stdout",
     "output_type": "stream",
     "text": [
      "part-1 1506483\n",
      "part-2 23126924\n",
      "Done with day1 2024!\n"
     ]
    }
   ],
   "source": [
    "###Day1\n",
    "###part-1\n",
    "\n",
    "with open(\"Inputs/day1.txt\") as file:\n",
    "    lines = file.readlines()\n",
    "\n",
    "location_lists = {\"list1\": [], \"list2\": [], \"set1\": [], \"set2\": []}\n",
    "\n",
    "for line in lines:\n",
    "    location_lists[\"list1\"].append(int(line.split()[0]))\n",
    "    location_lists[\"list2\"].append(int(line.split()[1]))\n",
    "\n",
    "location_lists[\"set1\"] = sorted(location_lists['list1'])\n",
    "location_lists[\"set2\"] = sorted(location_lists['list2'])\n",
    "\n",
    "diff = []\n",
    "\n",
    "for i in range(len(location_lists['set2'])):\n",
    "    diff.append(abs(location_lists['set1'][i] - location_lists['set2'][i]))\n",
    "\n",
    "print(\"part-1\", sum(diff))\n",
    "\n",
    "count = []\n",
    "\n",
    "for ele in location_lists['set1']:\n",
    "    count.append(location_lists['set2'].count(ele))\n",
    "\n",
    "sim_score = 0\n",
    "\n",
    "for i in range(len(location_lists['set1'])):\n",
    "    sim_score += location_lists['set1'][i]*count[i]\n",
    "\n",
    "print(\"part-2\", sim_score)\n",
    "print(\"Done with day1 2024!\")"
   ]
  },
  {
   "cell_type": "code",
   "execution_count": 1,
   "metadata": {},
   "outputs": [
    {
     "name": "stdout",
     "output_type": "stream",
     "text": [
      "part-1 463\n",
      "part-2 514\n"
     ]
    }
   ],
   "source": [
    "###Day2\n",
    "with open(\"Inputs/day2.txt\") as file:\n",
    "    lines = file.readlines()\n",
    "\n",
    "safety = []\n",
    "safety_part2 = []\n",
    "\n",
    "def check_safe(levels):\n",
    "        res = all(i < j for i, j in zip(levels, levels[1:])) or all(i > j for i, j in zip(levels, levels[1:]))\n",
    "        diff = list(map(lambda x, y: abs(y-x), levels[:-1], levels[1:]))\n",
    "        if all(item in [1,2,3] for item in diff) and res:\n",
    "            return True\n",
    "        else:\n",
    "            return False\n",
    "        \n",
    "def can_be_safe(levels):\n",
    "    for i in range(len(levels)):\n",
    "        modified_levels = levels[:i] + levels[i+1:] #ignore the ith element and check\n",
    "        if check_safe(modified_levels):\n",
    "            return True\n",
    "    return False\n",
    "\n",
    "for report in lines:\n",
    "    levels = list(map(int, report.split()))\n",
    "    if check_safe(levels):\n",
    "        safety.append(\"safe\")\n",
    "        safety_part2.append(\"safe\")\n",
    "    else:\n",
    "        if can_be_safe(levels):\n",
    "            safety_part2.append(\"safe\")\n",
    "        else:\n",
    "            safety_part2.append(\"unsafe\")\n",
    "        safety.append(\"unsafe\")\n",
    "\n",
    "print(\"part-1\", safety.count(\"safe\"))\n",
    "print(\"part-2\", safety_part2.count(\"safe\"))"
   ]
  },
  {
   "cell_type": "code",
   "execution_count": null,
   "metadata": {},
   "outputs": [
    {
     "name": "stdout",
     "output_type": "stream",
     "text": [
      "part-1 163931492\n",
      "part-2 76911921\n"
     ]
    }
   ],
   "source": [
    "###Day3\n",
    "import re\n",
    "with open(\"Inputs/day3.txt\") as file:\n",
    "    lines = file.read()\n",
    "\n",
    "mul_pattern = r'mul\\((\\d{1,3}),(\\d{1,3})\\)' #apparently giving as raw_string is the bet practice for regex, makes the escape charcaters pop i guess!\n",
    "matched = re.findall(mul_pattern, lines)\n",
    "\n",
    "result = 0\n",
    "for ele in matched:\n",
    "    mult = int(ele[0])*int(ele[1])\n",
    "    result += mult\n",
    "\n",
    "print(\"part-1\", result)\n",
    "\n",
    "part2_pattern = r'mul\\((\\d{1,3}),(\\d{1,3})\\)|(do(?:n\\'t)?)\\(\\)' #matches mul(num1, num2) and [do/don't]\n",
    "\n",
    "matches = re.finditer(part2_pattern, lines)\n",
    "\n",
    "matched_instructions = []\n",
    "\n",
    "for match in matches:\n",
    "    # print(match.groups(), \"\\t\", match.group(3)) #('598', '56', None) or (None, None, 'do')\n",
    "    if match.group(1) is not None and match.group(2) is not None: #('598', '56', None)\n",
    "        expr = [match.group(1), match.group(2)]\n",
    "        matched_instructions.append(expr)\n",
    "    elif match.group(3) is not None: #(None, None, 'do')\n",
    "        expr = match.group(3)\n",
    "        matched_instructions.append(expr)\n",
    "\n",
    "perform = True\n",
    "result = 0\n",
    "\n",
    "for ele in matched_instructions:\n",
    "    if type(ele) == list and perform == True:\n",
    "        result += int(ele[0])*int(ele[1])\n",
    "    elif ele == \"do\":\n",
    "        perform = True\n",
    "    else:\n",
    "        perform = False\n",
    "\n",
    "print(\"part-2\", result)"
   ]
  },
  {
   "cell_type": "code",
   "execution_count": 29,
   "metadata": {},
   "outputs": [
    {
     "name": "stdout",
     "output_type": "stream",
     "text": [
      "part-1 2562\n"
     ]
    }
   ],
   "source": [
    "###Day4\n",
    "with open(\"Inputs/day4.txt\") as file:\n",
    "    lines = file.read()\n",
    "\n",
    "matrix = lines.split(\"\\n\")\n",
    "\n",
    "count = 0\n",
    "\n",
    "#part-1 \"XMAS\"\n",
    "for i in range(len(matrix)):\n",
    "    for j in range(len(matrix[i])):\n",
    "        # Horizontal\n",
    "        if j < len(matrix[i]) - 3:\n",
    "            if matrix[i][j] == \"X\" and matrix[i][j+1] == \"M\" and matrix[i][j+2] == \"A\" and matrix[i][j+3] == \"S\":\n",
    "                count += 1\n",
    "            if matrix[i][j+3] == \"X\" and matrix[i][j+2] == \"M\" and matrix[i][j+1] == \"A\" and matrix[i][j] == \"S\":\n",
    "                count += 1 #reverse\n",
    "\n",
    "        # Vertical\n",
    "        if i < len(matrix) - 3:\n",
    "            if matrix[i][j] == \"X\" and matrix[i+1][j] == \"M\" and matrix[i+2][j] == \"A\" and matrix[i+3][j] == \"S\":\n",
    "                count += 1\n",
    "            if matrix[i+3][j] == \"X\" and matrix[i+2][j] == \"M\" and matrix[i+1][j] == \"A\" and matrix[i][j] == \"S\":\n",
    "                count += 1 #reverse\n",
    "\n",
    "        # Check for top-right to bottom-left diagonal\n",
    "        if i >= 3 and j < len(matrix[i]) - 3:\n",
    "            if matrix[i-3][j+3] == \"X\" and matrix[i-2][j+2] == \"M\" and matrix[i-1][j+1] == \"A\" and matrix[i][j] == \"S\":\n",
    "                count += 1  \n",
    "            # top-right to bottom-left\n",
    "            if matrix[i][j] == \"X\" and matrix[i-1][j+1] == \"M\" and matrix[i-2][j+2] == \"A\" and matrix[i-3][j+3] == \"S\":\n",
    "                count += 1  \n",
    "\n",
    "        # Check for top-left to bottom-right diagonal\n",
    "        if i < len(matrix) - 3 and j < len(matrix[i]) - 3:\n",
    "            if matrix[i][j] == \"X\" and matrix[i+1][j+1] == \"M\" and matrix[i+2][j+2] == \"A\" and matrix[i+3][j+3] == \"S\":\n",
    "                count += 1  \n",
    "            # top-left to bottom-right\n",
    "            if matrix[i+3][j+3] == \"X\" and matrix[i+2][j+2] == \"M\" and matrix[i+1][j+1] == \"A\" and matrix[i][j] == \"S\":\n",
    "                count += 1 \n",
    "\n",
    "print(\"part-1\", count)\n"
   ]
  },
  {
   "cell_type": "code",
   "execution_count": null,
   "metadata": {},
   "outputs": [
    {
     "name": "stdout",
     "output_type": "stream",
     "text": [
      "patr-2 1902\n"
     ]
    }
   ],
   "source": [
    "#part-2 X-MAS:\n",
    "####Reddit Solution -- link: https://github.com/ctosullivan/Advent-of-Code-2024/blob/master/Day_4/Attempt_2/Day_4_Part_2.py\n",
    "with open(\"Inputs/day4.txt\") as file:\n",
    "    lines = file.read()\n",
    "\n",
    "matrix = lines.split(\"\\n\")\n",
    "\n",
    "count = 0\n",
    "\n",
    "# Helper function to check for \"MAS\" in an X pattern\n",
    "def check_pattern(array, row, col):\n",
    "    rows = len(array)\n",
    "    cols = len(array[0])\n",
    "\n",
    "    # Ensure all diagonal positions are within bounds\n",
    "    if not (0 <= row - 1 < rows and 0 <= col - 1 < cols):\n",
    "        return False\n",
    "    if not (0 <= row + 1 < rows and 0 <= col + 1 < cols):\n",
    "        return False\n",
    "    if not (0 <= row + 1 < rows and 0 <= col - 1 < cols):\n",
    "        return False\n",
    "    if not (0 <= row - 1 < rows and 0 <= col + 1 < cols):\n",
    "        return False\n",
    "\n",
    "    # Check the \"MAS\" pattern in both diagonal directions\n",
    "    top_left_to_bottom_right = (\n",
    "        (array[row - 1][col - 1] == \"M\" and array[row][col] == \"A\" and array[row + 1][col + 1] == \"S\") or (array[row + 1][col + 1] == \"M\" and array[row][col] == \"A\" and array[row - 1][col - 1] == \"S\") \n",
    "    )\n",
    "    top_right_to_bottom_left = (\n",
    "        (array[row - 1][col + 1] == \"M\" and array[row][col] == \"A\" and array[row + 1][col - 1] == \"S\") or (array[row + 1][col - 1] == \"M\" and array[row][col] == \"A\" and array[row - 1][col + 1] == \"S\")\n",
    "    )\n",
    "\n",
    "    # Return true if either diagonal forms a valid \"MAS\" pattern\n",
    "    return top_left_to_bottom_right and top_right_to_bottom_left\n",
    "\n",
    "# Iterate through the 2D array\n",
    "for i in range(len(matrix)):\n",
    "    for j in range(len(matrix[0])):\n",
    "        if matrix[i][j] == \"A\":  # Center of the \"MAS\" pattern\n",
    "            if check_pattern(matrix, i, j):\n",
    "                count += 1\n",
    "print(\"patr-2\", count)"
   ]
  }
 ],
 "metadata": {
  "kernelspec": {
   "display_name": ".venv",
   "language": "python",
   "name": "python3"
  },
  "language_info": {
   "codemirror_mode": {
    "name": "ipython",
    "version": 3
   },
   "file_extension": ".py",
   "mimetype": "text/x-python",
   "name": "python",
   "nbconvert_exporter": "python",
   "pygments_lexer": "ipython3",
   "version": "3.12.7"
  }
 },
 "nbformat": 4,
 "nbformat_minor": 2
}
