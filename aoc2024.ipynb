{
 "cells": [
  {
   "cell_type": "code",
   "execution_count": 54,
   "metadata": {},
   "outputs": [
    {
     "name": "stdout",
     "output_type": "stream",
     "text": [
      "part-1 1506483\n",
      "part-2 23126924\n"
     ]
    }
   ],
   "source": [
    "###Day1\n",
    "###part-1\n",
    "\n",
    "with open(\"Inputs/day1.txt\") as file:\n",
    "    lines = file.readlines()\n",
    "\n",
    "location_lists = {\"list1\": [], \"list2\": [], \"set1\": [], \"set2\": []}\n",
    "\n",
    "for line in lines:\n",
    "    location_lists[\"list1\"].append(int(line.split()[0]))\n",
    "    location_lists[\"list2\"].append(int(line.split()[1]))\n",
    "\n",
    "location_lists[\"set1\"] = sorted(location_lists['list1'])\n",
    "location_lists[\"set2\"] = sorted(location_lists['list2'])\n",
    "\n",
    "diff = []\n",
    "\n",
    "for i in range(len(location_lists['set2'])):\n",
    "    diff.append(abs(location_lists['set1'][i] - location_lists['set2'][i]))\n",
    "\n",
    "print(\"part-1\", sum(diff))\n",
    "\n",
    "count = []\n",
    "\n",
    "for ele in location_lists['set1']:\n",
    "    count.append(location_lists['set2'].count(ele))\n",
    "\n",
    "sim_score = 0\n",
    "\n",
    "for i in range(len(location_lists['set1'])):\n",
    "    sim_score += location_lists['set1'][i]*count[i]\n",
    "\n",
    "print(\"part-2\", sim_score)"
   ]
  }
 ],
 "metadata": {
  "kernelspec": {
   "display_name": ".venv",
   "language": "python",
   "name": "python3"
  },
  "language_info": {
   "codemirror_mode": {
    "name": "ipython",
    "version": 3
   },
   "file_extension": ".py",
   "mimetype": "text/x-python",
   "name": "python",
   "nbconvert_exporter": "python",
   "pygments_lexer": "ipython3",
   "version": "3.12.7"
  }
 },
 "nbformat": 4,
 "nbformat_minor": 2
}
