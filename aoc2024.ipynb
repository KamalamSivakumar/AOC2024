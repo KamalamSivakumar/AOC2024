{
 "cells": [
  {
   "cell_type": "code",
   "execution_count": 2,
   "metadata": {},
   "outputs": [
    {
     "name": "stdout",
     "output_type": "stream",
     "text": [
      "part-1 1506483\n",
      "part-2 23126924\n",
      "Done with day1 2024!\n"
     ]
    }
   ],
   "source": [
    "###Day1\n",
    "###part-1\n",
    "\n",
    "with open(\"Inputs/day1.txt\") as file:\n",
    "    lines = file.readlines()\n",
    "\n",
    "location_lists = {\"list1\": [], \"list2\": [], \"set1\": [], \"set2\": []}\n",
    "\n",
    "for line in lines:\n",
    "    location_lists[\"list1\"].append(int(line.split()[0]))\n",
    "    location_lists[\"list2\"].append(int(line.split()[1]))\n",
    "\n",
    "location_lists[\"set1\"] = sorted(location_lists['list1'])\n",
    "location_lists[\"set2\"] = sorted(location_lists['list2'])\n",
    "\n",
    "diff = []\n",
    "\n",
    "for i in range(len(location_lists['set2'])):\n",
    "    diff.append(abs(location_lists['set1'][i] - location_lists['set2'][i]))\n",
    "\n",
    "print(\"part-1\", sum(diff))\n",
    "\n",
    "count = []\n",
    "\n",
    "for ele in location_lists['set1']:\n",
    "    count.append(location_lists['set2'].count(ele))\n",
    "\n",
    "sim_score = 0\n",
    "\n",
    "for i in range(len(location_lists['set1'])):\n",
    "    sim_score += location_lists['set1'][i]*count[i]\n",
    "\n",
    "print(\"part-2\", sim_score)\n",
    "print(\"Done with day1 2024!\")"
   ]
  },
  {
   "cell_type": "code",
   "execution_count": null,
   "metadata": {},
   "outputs": [
    {
     "name": "stdout",
     "output_type": "stream",
     "text": [
      "part-1 463\n",
      "part-2 514\n"
     ]
    }
   ],
   "source": [
    "###Day2\n",
    "with open(\"Inputs/day2.txt\") as file:\n",
    "    lines = file.readlines()\n",
    "\n",
    "safety = []\n",
    "safety_part2 = []\n",
    "\n",
    "def check_safe(levels):\n",
    "        res = all(i < j for i, j in zip(levels, levels[1:])) or all(i > j for i, j in zip(levels, levels[1:]))\n",
    "        diff = list(map(lambda x, y: abs(y-x), levels[:-1], levels[1:]))\n",
    "        if all(item in [1,2,3] for item in diff) and res:\n",
    "            return True\n",
    "        else:\n",
    "            return False\n",
    "        \n",
    "def can_be_safe(levels):\n",
    "    for i in range(len(levels)):\n",
    "        modified_levels = levels[:i] + levels[i+1:] #ignore the ith element and check\n",
    "        if check_safe(modified_levels):\n",
    "            return True\n",
    "    return False\n",
    "\n",
    "for report in lines:\n",
    "    levels = list(map(int, report.split()))\n",
    "    if check_safe(levels):\n",
    "        safety.append(\"safe\")\n",
    "        safety_part2.append(\"safe\")\n",
    "    else:\n",
    "        if can_be_safe(levels):\n",
    "            safety_part2.append(\"safe\")\n",
    "        else:\n",
    "            safety_part2.append(\"unsafe\")\n",
    "        safety.append(\"unsafe\")\n",
    "\n",
    "print(\"part-1\", safety.count(\"safe\"))\n",
    "print(\"part-2\", safety_part2.count(\"safe\"))"
   ]
  },
  {
   "cell_type": "code",
   "execution_count": null,
   "metadata": {},
   "outputs": [],
   "source": []
  }
 ],
 "metadata": {
  "kernelspec": {
   "display_name": ".venv",
   "language": "python",
   "name": "python3"
  },
  "language_info": {
   "codemirror_mode": {
    "name": "ipython",
    "version": 3
   },
   "file_extension": ".py",
   "mimetype": "text/x-python",
   "name": "python",
   "nbconvert_exporter": "python",
   "pygments_lexer": "ipython3",
   "version": "3.12.7"
  }
 },
 "nbformat": 4,
 "nbformat_minor": 2
}
